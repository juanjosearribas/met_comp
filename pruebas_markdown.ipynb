{
 "cells": [
  {
   "cell_type": "markdown",
   "metadata": {},
   "source": [
    "## Ejemplo de cálculo de elementos finitos\n",
    "![esquema](17_d.png)\n",
    "\n",
    "$\n",
    "\\frac{EA}{l}\\begin{pmatrix}\n",
    "c^2 & cs \\\\\n",
    "cs  & s^2 \n",
    "\\end{pmatrix}\n",
    "$"
   ]
  },
  {
   "cell_type": "markdown",
   "metadata": {},
   "source": [
    "Trabajaremos con una lista de elementos [el1,el2,....]\n",
    "Cada elemento el1 es una lista con los siguientes datos: [nodo_i,nodo_j,EA]\n",
    "\n",
    "![dibujo](IMG_0008.PNG)"
   ]
  },
  {
   "cell_type": "markdown",
   "metadata": {},
   "source": [
    "$\n",
    "\\frac{EA}{l}\\begin{pmatrix}\n",
    "c^2 & cs \\\\\n",
    "cs  & s^2 \n",
    "\\end{pmatrix}\n",
    "$"
   ]
  },
  {
   "cell_type": "markdown",
   "metadata": {},
   "source": [
    "##1  Matriz de rigidez de un elemento\n"
   ]
  },
  {
   "cell_type": "markdown",
   "metadata": {},
   "source": [
    "Matriz de rigidez de un conjunto de elementos\n",
    "Ensamblaje\n"
   ]
  },
  {
   "cell_type": "markdown",
   "metadata": {},
   "source": [
    "Condiciones de contorno"
   ]
  },
  {
   "cell_type": "markdown",
   "metadata": {},
   "source": [
    "Fuerzas"
   ]
  },
  {
   "cell_type": "markdown",
   "metadata": {},
   "source": [
    "Movimientos impuestos"
   ]
  },
  {
   "cell_type": "code",
   "execution_count": 1,
   "metadata": {},
   "outputs": [],
   "source": [
    "import numpy as np"
   ]
  },
  {
   "cell_type": "markdown",
   "metadata": {},
   "source": [
    " ## 1. Apartado\n",
    " \n",
    " 1. Lista numerada\n",
    " 1. Prueba\n",
    " 1. Prueba 2\n",
    " 1. Prueba 3\n",
    "    - lista \n",
    "    - lista 2\n",
    " 1. Sigue \n",
    " \n",
    " \n",
    " - dfsadas\n",
    " - safds\n",
    " \n",
    " \n",
    " ***\n",
    "\n",
    "Prueba de **texto** y *también*\n",
    "\n",
    "Elementos\n",
    "\n",
    "| elemento | nodo i |  nodo j  |  EA  |\n",
    "| ---   | ----     |  ---      | ---- |\n",
    "|   1    |  1     |  2 | 1000 |\n",
    "|   1    |  2     |  3 | 1000 |\n",
    "|   2    |  3     |  4  | 2000 | \n",
    "\n",
    "> Prueba\n",
    ">> Prueba 2\n",
    "\n",
    "\n",
    "> fin de prueba\n",
    "\n",
    "\n",
    "```\n",
    "l1 = [1,2,1000]\n",
    "```\n",
    "\n",
    "y esta es una  prueba dentro `del texto` a ver "
   ]
  },
  {
   "cell_type": "markdown",
   "metadata": {},
   "source": [
    "<div align=\"center\">The derogatory term “scrub” means several different thing\n",
    "    <div align=\"right\">Now, everyone begins as a poor player—it takes time to learn a game to get to a point where you know what you’re doing. There is the mistaken no hjjkl jkh fdskhkhj fkdshjk hskdf \n",
    "        \n"
   ]
  },
  {
   "cell_type": "code",
   "execution_count": null,
   "metadata": {},
   "outputs": [],
   "source": []
  }
 ],
 "metadata": {
  "kernelspec": {
   "display_name": "Python 3",
   "language": "python",
   "name": "python3"
  },
  "language_info": {
   "codemirror_mode": {
    "name": "ipython",
    "version": 3
   },
   "file_extension": ".py",
   "mimetype": "text/x-python",
   "name": "python",
   "nbconvert_exporter": "python",
   "pygments_lexer": "ipython3",
   "version": "3.7.3"
  }
 },
 "nbformat": 4,
 "nbformat_minor": 4
}
