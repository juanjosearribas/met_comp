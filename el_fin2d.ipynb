{
 "cells": [
  {
   "cell_type": "markdown",
   "metadata": {},
   "source": [
    "# Ejemplo de programación elementos finitos.\n",
    "## Introducción.\n",
    "\n",
    "El objetivo de esta práctica es ver una pequeña introducción a como preparar un programa de cálculo de elementos finitos.\n",
    "Para ello partiremos de un ejemplo de un modelo de barras en dos dimensiones (celosías).\n",
    "A partir del ejemplo se irán desarrollando paso a paso las distintas funciones necesarias para su solución.\n",
    "La programación se realizará en python utilizando las siguientes librerías:\n",
    "\n",
    "1. math\n",
    "1. numpy\n",
    "2. scipy\n",
    "3. matplotlib\n",
    "\n",
    "El código se implementará en un notebook de jupyter que permite la mezcla de texto, gráficos y código de forma sencilla mediante el uso de celdas de tipo *markdown* o tipo *code*.\n"
   ]
  },
  {
   "cell_type": "code",
   "execution_count": 1,
   "metadata": {},
   "outputs": [],
   "source": [
    "import numpy as np\n",
    "import scipy.sparse as sp\n",
    "from scipy.sparse.linalg import spsolve\n",
    "import matplotlib.pyplot as plt\n",
    "import math"
   ]
  },
  {
   "cell_type": "markdown",
   "metadata": {},
   "source": [
    "## Ejemplo\n",
    "\n",
    "Vamos a utilizar el siguiente ejemplo:\n",
    "\n",
    "![esquema](17_d.png)\n",
    "\n",
    "Como en el lenguaje python los arrays, listas, etc. se indexan empezando por cero, uilizaremos ese convenio en la descripción del modelo.\n",
    "Los nodos se numerarán de forma correlativa empezando por cero, con los elementos se hará de forma similar y para establecer las fuerzas concentradas en nodos se usará el nodo, la dirección (0 el eje x y 1 el eje y) y el valor. Las condiciones de contorno se definirán de forma similar a las fuerzas pero sin el dato valor.\n",
    "Si resumimos la información del modelo relevante para el cálculo observamos lo siguiente:\n",
    "\n",
    "* Coordenadas de los nodos.\n",
    "\n",
    "| Nodo  |   x  |  y|\n",
    "| ---   | --- | ---|\n",
    "| 0     |  0   |  0 |\n",
    "| 1    |   2  |  0 |\n",
    "| 2    |   1  | 0   |\n",
    "\n",
    "*  Elementos (barras articuladas)\n",
    "\n",
    "| Elemento  |  nodo 1  |  nodo  2  |   EA    |\n",
    "| ---       | ---      | ---       | ---     |\n",
    "|    0      |    0     |   1       |   1000  |\n",
    "|    1      |    0     |   2        |  1000  |\n",
    "|    2      |    1     |   2        |  1000  |\n",
    "\n",
    "* fuerzas aplicadas\n",
    "\n",
    "| Nodo  |  dirección  | valor |\n",
    "| ---   | ---         | ---   |\n",
    "| 2     |    0        | 1    |\n",
    "\n",
    "* Condiciones de contorno\n",
    "\n",
    "| Nodo  |  dirección  | \n",
    "| ---   | ---         | \n",
    "| 0     |    0        | \n",
    "| 0     |    1        | \n",
    "| 1     |    1        | \n",
    "\n",
    "\n",
    "Lo primero que se hará es definir formalmente el modelo en el lenguaje en cuestión. Para el caso que nos ocupa usaremos un array del tipo numpy para las coordenadas y listas para los elementos, las fuerzas y las condiciones de contorno.\n",
    "Crearemos las variables correspondientes con los nombres que nos parezcan oportunos."
   ]
  },
  {
   "cell_type": "markdown",
   "metadata": {},
   "source": [
    "Para los nodos un array con sus coordenadas [[x0,y0],[x1,y1],...]\n",
    "Para los elementos una lista con los mismos [el1,el2,....], donde cada elemento es [nodo 1, nodo 2, EA]\n",
    "Para las fuerzas una lista con cada una de ellas [[nodo,dirección,F_val],...]\n",
    "Y para las condiciones de contorno una lista similar[[nodo,dirección],...]\n",
    "Escribiéndolo en python tendríamos lo siguiente"
   ]
  },
  {
   "cell_type": "code",
   "execution_count": 2,
   "metadata": {},
   "outputs": [],
   "source": [
    "x = np.array([[0,0],[2,0],[1,2]])\n",
    "elementos = [[0,1,1000],[0,2,1000],[1,2,1000]]\n",
    "fuerzas = [[2,0,1]]\n",
    "cc = [[0,0],[0,1],[1,1]]"
   ]
  },
  {
   "cell_type": "markdown",
   "metadata": {},
   "source": [
    "## Matriz de rigidez del modelo\n",
    "\n",
    "El objetivo del cálculo es llegar a una ecuación del tipo $\\mathbf{K}\\mathbf{d}=\\mathbf{f}$ donde $\\mathbf{K}$ es la matriz de rigidez global del modelo que se obtiene a partir de las matrices de rigidez de cada elemento ensambladas (sumadas en una cierta posición dependiente de los nodos) en la global.\n",
    "\n",
    "El vector de fuerzas $\\mathbf{f}$ también se obtiene de forma similar ensamblando las fuerzas dadas cada una de ellas en la posición correspondiente.\n",
    "\n",
    "Como los grados de libertad considerados son dos por nodo (u según x,v según y) las dimensiones de las matrices serán siendo $n$ el número de nodos.\n",
    "\n",
    "|   Matriz    |  dimensión |\n",
    "|  ----       |   -------  |\n",
    "| $\\mathbf{K}$ | $2n\\times2n$ |\n",
    "| $\\mathbf{d}$ | $2n$        |\n",
    "| $\\mathbf{f}$ | $2n$      |\n",
    "\n",
    "Al haber indexado a partir de cero la relación entre nodo, dirección y grado de libertad es muy sencilla:\n",
    "Al nodo $i$, dirección $j$ le corresonde el grado de libertad (índice en las matrices)  $2i+j$\n"
   ]
  },
  {
   "cell_type": "markdown",
   "metadata": {},
   "source": [
    "## Matriz de rigidez elemental\n",
    "\n",
    "Primeramente obtendremos la función matriz de rigidez de un elemento.\n",
    "Una vez obtenida se aplicará esa función a todos los elementos y se ensamblarán.\n",
    "\n",
    "La matriz de rigidez del elemento es:\n",
    "\n",
    "$ \\mathbf{K}_{el} = \n",
    "\\frac{EA}{l}\\begin{pmatrix}\n",
    "c^2 & cs & -c^2 & -cs \\\\\n",
    "cs  & s^2 & cs & s^2 \\\\\n",
    "-c^2 & -cs & c^2 & cs \\\\\n",
    "-cs &  -s^2 & cs & s^2\n",
    "\\end{pmatrix}\n",
    "$\n",
    "siendo $c$ el coseno del ángulo que forma la barra con la horizontal y $s$ el seno.\n",
    "\n",
    "Como se puede observar, en este caso, está formada por un bloque de $2\\times2$ que se repite cuatro veces, dos de ellas con el signo cambiado.\n",
    "\n",
    "Si denominamos al bloque básico $\\mathbf{K}_{11}$ tendríamos lo siguiente\n",
    "$ \\mathbf{K_{11}} = \n",
    "\\frac{EA}{l}\\begin{pmatrix}\n",
    "c^2 & cs \\\\\n",
    "cs & s^2 \n",
    "\\end{pmatrix}\n",
    "$\n",
    "\n",
    "y por tanto:\n",
    "$ \\mathbf{K_{el}} = \n",
    "\\begin{pmatrix}\n",
    "\\mathbf{K}_{11} & -\\mathbf{K}_{11} \\\\\n",
    "-\\mathbf{K}_{11}& \\mathbf{K}_{11} \n",
    "\\end{pmatrix}\n",
    "$\n",
    "\n",
    "Vamos a proceder paso a paso escribiendo funciones para obtener la matriz de rigidez elemental. Partimos de un elemento que está definido por: [nodo 1,nodo 2, EA].\n",
    "Además necesitaremos las coordenadas de los nodos (en concreto las diferencias) para obtener la longitud y los senos y los cosenos.\n"
   ]
  },
  {
   "cell_type": "markdown",
   "metadata": {},
   "source": [
    "La primera función que vamos incluir es la que accede a las coordenadas de los nodos\n",
    "Argumentos:\n",
    "1. elemento,coordenadas\n",
    "   [nodo 1,nodo 2, EA] , coordenadas\n",
    "Resultado:\n",
    "1. elemento modificado\n",
    "   [nodo 1, nodo 2, EA,x2-x1,y2-y1]\n"
   ]
  },
  {
   "cell_type": "code",
   "execution_count": 3,
   "metadata": {},
   "outputs": [],
   "source": [
    "fk_0 = lambda el,coor: [el[0],el[1],el[2],coor[el[1]][0]-coor[el[0]][0],coor[el[1]][1]-coor[el[0]][1]]"
   ]
  },
  {
   "cell_type": "code",
   "execution_count": 4,
   "metadata": {},
   "outputs": [
    {
     "data": {
      "text/plain": [
       "[0, 2, 1000, 1, 2]"
      ]
     },
     "execution_count": 4,
     "metadata": {},
     "output_type": "execute_result"
    }
   ],
   "source": [
    "fk_0(elementos[1],x)"
   ]
  },
  {
   "cell_type": "markdown",
   "metadata": {},
   "source": [
    "La siguiente función calcula la longitud del elemento\n",
    "Argumentos:\n",
    "1. elemento\n",
    "   [nodo 1,nodo 2, EA,x2-x1,y2-y1] \n",
    "Resultado:\n",
    "1. elemento modificado\n",
    "   [nodo 1, nodo 2, EA,l,x2-x1,y2-y1]"
   ]
  },
  {
   "cell_type": "code",
   "execution_count": 5,
   "metadata": {},
   "outputs": [],
   "source": [
    "fk_1 = lambda el: [el[0],el[1],el[2],math.hypot(el[3],el[4]),el[3],el[4]]"
   ]
  },
  {
   "cell_type": "code",
   "execution_count": 6,
   "metadata": {},
   "outputs": [
    {
     "data": {
      "text/plain": [
       "[0, 1, 1000, 2.0, 2, 0]"
      ]
     },
     "execution_count": 6,
     "metadata": {},
     "output_type": "execute_result"
    }
   ],
   "source": [
    "fk_0(elementos[0],x)\n",
    "fk_1(fk_0(elementos[0],x))"
   ]
  },
  {
   "cell_type": "markdown",
   "metadata": {},
   "source": [
    "La siguiente función obtiene el coseno y el seno y la rigidez axial $\\frac{EA}{l}$  del elemento donde tanto el coseno como el seno se obtienen a partir de las diferencias de coordenadas y de la longitud"
   ]
  },
  {
   "cell_type": "code",
   "execution_count": 7,
   "metadata": {},
   "outputs": [],
   "source": [
    "fk_2 = lambda el: [el[0],el[1],el[2]/el[3],el[4]/el[3],el[5]/el[3]]"
   ]
  },
  {
   "cell_type": "code",
   "execution_count": 8,
   "metadata": {},
   "outputs": [
    {
     "data": {
      "text/plain": [
       "[0, 1, 500.0, 1.0, 0.0]"
      ]
     },
     "execution_count": 8,
     "metadata": {},
     "output_type": "execute_result"
    }
   ],
   "source": [
    "fk_0(elementos[0],x)\n",
    "fk_1(fk_0(elementos[0],x))\n",
    "fk_2(fk_1(fk_0(elementos[0],x)))"
   ]
  },
  {
   "cell_type": "markdown",
   "metadata": {},
   "source": [
    "Ahora se puede obtener el bloque elemental $\\mathbf{K}_{11}$ de la matriz de rigidez elemental\n",
    "$ \\mathbf{K_{11}} = \n",
    "\\frac{EA}{l}\\begin{pmatrix}\n",
    "c^2 & cs \\\\\n",
    "cs & s^2 \n",
    "\\end{pmatrix}\n",
    "$"
   ]
  },
  {
   "cell_type": "code",
   "execution_count": 9,
   "metadata": {},
   "outputs": [],
   "source": [
    "fk_11 = lambda el: el[2]*np.array([[el[3]**2,el[3]*el[4]],[el[3]*el[4],el[4]**2]])"
   ]
  },
  {
   "cell_type": "code",
   "execution_count": 10,
   "metadata": {},
   "outputs": [
    {
     "data": {
      "text/plain": [
       "array([[500.,   0.],\n",
       "       [  0.,   0.]])"
      ]
     },
     "execution_count": 10,
     "metadata": {},
     "output_type": "execute_result"
    }
   ],
   "source": [
    "fk_11(fk_2(fk_1(fk_0(elementos[0],x))))"
   ]
  },
  {
   "cell_type": "markdown",
   "metadata": {},
   "source": [
    "Y a partir del bloque $\\mathbf{K}_{11}$ podemos obtener la matriz de rigidez local del elemento\n",
    "$ \\mathbf{K_{el}} = \n",
    "\\begin{pmatrix}\n",
    "\\mathbf{K}_{11} & -\\mathbf{K}_{11} \\\\\n",
    "-\\mathbf{K}_{11}& \\mathbf{K}_{11} \n",
    "\\end{pmatrix}\n",
    "$"
   ]
  },
  {
   "cell_type": "code",
   "execution_count": 11,
   "metadata": {},
   "outputs": [],
   "source": [
    "fk_loc = lambda k11: np.vstack((np.hstack((k11,-k11)),np.hstack((-k11,k11))))"
   ]
  },
  {
   "cell_type": "code",
   "execution_count": 12,
   "metadata": {},
   "outputs": [
    {
     "data": {
      "text/plain": [
       "array([[ 500.,    0., -500.,   -0.],\n",
       "       [   0.,    0.,   -0.,   -0.],\n",
       "       [-500.,   -0.,  500.,    0.],\n",
       "       [  -0.,   -0.,    0.,    0.]])"
      ]
     },
     "execution_count": 12,
     "metadata": {},
     "output_type": "execute_result"
    }
   ],
   "source": [
    "fk_loc(fk_11(fk_2(fk_1(fk_0(elementos[0],x)))))"
   ]
  },
  {
   "cell_type": "markdown",
   "metadata": {},
   "source": [
    "Todas las funciones auxiliares para obtener la matriz de rigidez las podemos juntar en una sola."
   ]
  },
  {
   "cell_type": "code",
   "execution_count": 13,
   "metadata": {},
   "outputs": [],
   "source": [
    "fk_el = lambda elemento,coor: fk_loc(fk_11(fk_2(fk_1(fk_0(elemento,coor)))))"
   ]
  },
  {
   "cell_type": "code",
   "execution_count": 14,
   "metadata": {},
   "outputs": [
    {
     "data": {
      "text/plain": [
       "array([[  89.4427191, -178.8854382,  -89.4427191,  178.8854382],\n",
       "       [-178.8854382,  357.7708764,  178.8854382, -357.7708764],\n",
       "       [ -89.4427191,  178.8854382,   89.4427191, -178.8854382],\n",
       "       [ 178.8854382, -357.7708764, -178.8854382,  357.7708764]])"
      ]
     },
     "execution_count": 14,
     "metadata": {},
     "output_type": "execute_result"
    }
   ],
   "source": [
    "fk_el(elementos[2],x)"
   ]
  },
  {
   "cell_type": "markdown",
   "metadata": {},
   "source": [
    "## Matriz de rigidez de un conjunto de elementos y ensamblaje\n",
    "\n",
    "Una vez que tengo una función para obtener la matriz de rigidez de un elemento, la forma de obtener las matrices de rigidez de todos los elementos es aplicar esa función a todos los elementos."
   ]
  },
  {
   "cell_type": "code",
   "execution_count": 15,
   "metadata": {},
   "outputs": [],
   "source": [
    "fk_els = lambda elementos,coor: map(lambda elemento: fk_el(elemento,coor),elementos)"
   ]
  },
  {
   "cell_type": "code",
   "execution_count": 16,
   "metadata": {},
   "outputs": [
    {
     "data": {
      "text/plain": [
       "[array([[ 500.,    0., -500.,   -0.],\n",
       "        [   0.,    0.,   -0.,   -0.],\n",
       "        [-500.,   -0.,  500.,    0.],\n",
       "        [  -0.,   -0.,    0.,    0.]]),\n",
       " array([[  89.4427191,  178.8854382,  -89.4427191, -178.8854382],\n",
       "        [ 178.8854382,  357.7708764, -178.8854382, -357.7708764],\n",
       "        [ -89.4427191, -178.8854382,   89.4427191,  178.8854382],\n",
       "        [-178.8854382, -357.7708764,  178.8854382,  357.7708764]]),\n",
       " array([[  89.4427191, -178.8854382,  -89.4427191,  178.8854382],\n",
       "        [-178.8854382,  357.7708764,  178.8854382, -357.7708764],\n",
       "        [ -89.4427191,  178.8854382,   89.4427191, -178.8854382],\n",
       "        [ 178.8854382, -357.7708764, -178.8854382,  357.7708764]])]"
      ]
     },
     "execution_count": 16,
     "metadata": {},
     "output_type": "execute_result"
    }
   ],
   "source": [
    "list(fk_els(elementos,x))"
   ]
  },
  {
   "cell_type": "markdown",
   "metadata": {},
   "source": [
    "Podría hacerse sin necesidad de definir la función auxiliar fk_els"
   ]
  },
  {
   "cell_type": "code",
   "execution_count": 17,
   "metadata": {},
   "outputs": [
    {
     "data": {
      "text/plain": [
       "[array([[ 500.,    0., -500.,   -0.],\n",
       "        [   0.,    0.,   -0.,   -0.],\n",
       "        [-500.,   -0.,  500.,    0.],\n",
       "        [  -0.,   -0.,    0.,    0.]]),\n",
       " array([[  89.4427191,  178.8854382,  -89.4427191, -178.8854382],\n",
       "        [ 178.8854382,  357.7708764, -178.8854382, -357.7708764],\n",
       "        [ -89.4427191, -178.8854382,   89.4427191,  178.8854382],\n",
       "        [-178.8854382, -357.7708764,  178.8854382,  357.7708764]]),\n",
       " array([[  89.4427191, -178.8854382,  -89.4427191,  178.8854382],\n",
       "        [-178.8854382,  357.7708764,  178.8854382, -357.7708764],\n",
       "        [ -89.4427191,  178.8854382,   89.4427191, -178.8854382],\n",
       "        [ 178.8854382, -357.7708764, -178.8854382,  357.7708764]])]"
      ]
     },
     "execution_count": 17,
     "metadata": {},
     "output_type": "execute_result"
    }
   ],
   "source": [
    "list((lambda elementos,coor: map(lambda elemento: fk_el(elemento,coor),elementos))(elementos,x))"
   ]
  },
  {
   "cell_type": "markdown",
   "metadata": {},
   "source": [
    "Con vistas al ensamblaje nos conviene tener todos los elementos de las matrices de rigidez en un array unidimensional. Para ello usaremos la función np.ravel y definimos una nieva función"
   ]
  },
  {
   "cell_type": "code",
   "execution_count": 18,
   "metadata": {},
   "outputs": [],
   "source": [
    "f_kg1 = lambda elementos,coordenadas:np.ravel(list(fk_els(elementos,coordenadas)))"
   ]
  },
  {
   "cell_type": "code",
   "execution_count": 19,
   "metadata": {},
   "outputs": [
    {
     "data": {
      "text/plain": [
       "array([ 500.       ,    0.       , -500.       ,   -0.       ,\n",
       "          0.       ,    0.       ,   -0.       ,   -0.       ,\n",
       "       -500.       ,   -0.       ,  500.       ,    0.       ,\n",
       "         -0.       ,   -0.       ,    0.       ,    0.       ,\n",
       "         89.4427191,  178.8854382,  -89.4427191, -178.8854382,\n",
       "        178.8854382,  357.7708764, -178.8854382, -357.7708764,\n",
       "        -89.4427191, -178.8854382,   89.4427191,  178.8854382,\n",
       "       -178.8854382, -357.7708764,  178.8854382,  357.7708764,\n",
       "         89.4427191, -178.8854382,  -89.4427191,  178.8854382,\n",
       "       -178.8854382,  357.7708764,  178.8854382, -357.7708764,\n",
       "        -89.4427191,  178.8854382,   89.4427191, -178.8854382,\n",
       "        178.8854382, -357.7708764, -178.8854382,  357.7708764])"
      ]
     },
     "execution_count": 19,
     "metadata": {},
     "output_type": "execute_result"
    }
   ],
   "source": [
    "f_kg1(elementos,x)"
   ]
  },
  {
   "cell_type": "markdown",
   "metadata": {},
   "source": [
    "Para poder enamblar las matrices de rigidez es necesario saber a que índices de la matriz de rigidez global va cada elemento de una matriz de rigidez elemental.\n",
    "Vamos a crear unas funciones que nos den esos índices en función de los nodos del elemento, una función para las filas de todos los elementos de la matriz y otra función para las columnas.\n"
   ]
  },
  {
   "cell_type": "code",
   "execution_count": 20,
   "metadata": {},
   "outputs": [],
   "source": [
    "columnask = lambda y:  np.array(list(( map(lambda x: [x*2,x*2+1],y)))*4).flatten()\n",
    "filask = lambda y:  np.array(list(( map(lambda x: [list([x*2])*4,list([x*2+1])*4],y)))).flatten()"
   ]
  },
  {
   "cell_type": "code",
   "execution_count": 21,
   "metadata": {},
   "outputs": [
    {
     "name": "stdout",
     "output_type": "stream",
     "text": [
      "[0 0 0 0 1 1 1 1 2 2 2 2 3 3 3 3]\n",
      "[2 3 4 5 2 3 4 5 2 3 4 5 2 3 4 5]\n"
     ]
    }
   ],
   "source": [
    "print(filask((0,1)))\n",
    "print(columnask((1,2)))"
   ]
  },
  {
   "cell_type": "markdown",
   "metadata": {},
   "source": [
    "Si se aplican las funciones a un conjunto de elementos se definen las siguientes funciones"
   ]
  },
  {
   "cell_type": "code",
   "execution_count": 22,
   "metadata": {},
   "outputs": [],
   "source": [
    "fco = lambda elementos: list(np.ravel(list(map(lambda u: columnask((u[0],u[1])),elementos))))\n",
    "ffi = lambda elementos: list(np.ravel(list(map(lambda u: filask((u[0],u[1])),elementos))))"
   ]
  },
  {
   "cell_type": "markdown",
   "metadata": {},
   "source": [
    "Como ejemplo se puede aplicar a todos nuestros elementos:"
   ]
  },
  {
   "cell_type": "code",
   "execution_count": 23,
   "metadata": {},
   "outputs": [
    {
     "name": "stdout",
     "output_type": "stream",
     "text": [
      "[0, 1, 2, 3, 0, 1, 2, 3, 0, 1, 2, 3, 0, 1, 2, 3, 0, 1, 4, 5, 0, 1, 4, 5, 0, 1, 4, 5, 0, 1, 4, 5, 2, 3, 4, 5, 2, 3, 4, 5, 2, 3, 4, 5, 2, 3, 4, 5]\n"
     ]
    }
   ],
   "source": [
    "print(fco(elementos))"
   ]
  },
  {
   "cell_type": "markdown",
   "metadata": {},
   "source": [
    "Una vez que se dispone de las matrices de rigidez de todos los elementos y las filas y columnas de cada elemento de cada matriz se pueden ensamblar en la matriz de rigidez global.\n",
    "Utilizaremos el formato de matriz sparse del módulo de python scipy que a la vez que genera la matriz sparse va sumando los distintos elemntos.\n"
   ]
  },
  {
   "cell_type": "code",
   "execution_count": 24,
   "metadata": {},
   "outputs": [],
   "source": [
    "f_kg = lambda elementos,puntos: sp.csr_matrix(sp.coo_matrix((f_kg1(elementos,puntos),(fco(elementos),ffi(elementos))),shape=(len(puntos)*2,len(puntos)*2)))\n"
   ]
  },
  {
   "cell_type": "code",
   "execution_count": 25,
   "metadata": {},
   "outputs": [
    {
     "name": "stdout",
     "output_type": "stream",
     "text": [
      "[[ 589.4427191  178.8854382 -500.           0.         -89.4427191\n",
      "  -178.8854382]\n",
      " [ 178.8854382  357.7708764    0.           0.        -178.8854382\n",
      "  -357.7708764]\n",
      " [-500.           0.         589.4427191 -178.8854382  -89.4427191\n",
      "   178.8854382]\n",
      " [   0.           0.        -178.8854382  357.7708764  178.8854382\n",
      "  -357.7708764]\n",
      " [ -89.4427191 -178.8854382  -89.4427191  178.8854382  178.8854382\n",
      "     0.       ]\n",
      " [-178.8854382 -357.7708764  178.8854382 -357.7708764    0.\n",
      "   715.5417528]]\n"
     ]
    }
   ],
   "source": [
    "print(f_kg(elementos,x).todense())"
   ]
  },
  {
   "cell_type": "markdown",
   "metadata": {},
   "source": [
    "## Condiciones de contorno\n",
    "\n",
    "La matriz obtenida es singular dado que no hemos incluido ninguna condición de contorno."
   ]
  },
  {
   "cell_type": "code",
   "execution_count": 26,
   "metadata": {},
   "outputs": [
    {
     "data": {
      "text/plain": [
       "0.0"
      ]
     },
     "execution_count": 26,
     "metadata": {},
     "output_type": "execute_result"
    }
   ],
   "source": [
    "np.linalg.det(f_kg(elementos,x).todense())\n"
   ]
  },
  {
   "cell_type": "markdown",
   "metadata": {},
   "source": [
    "Las condiciones de contorno podrían incluirse eliminando las filas y columnas de la matriz de rigidez correspondientes a los grados de libertad restringidos pero una forma más simple es imponiendo las restricciones por penalización. Se añaden en los elementos de  la diagonal de la matriz de rigidez correspondientes a los grados de libertad restringidos unos valores de rigidez muy elevados que imponend forma aproximada el cumplimiento de la restricción.\n",
    "De este modo se mantienen las dimensiones de las matrices que en el otro caso habrían cambiado.\n",
    "\n",
    "Si denominamos al valor elevado de rigidez $kpen$ y tenemos en el nodo $i$ restringido el grado de libertad $j$ basta con añadir el valor $kpen$ al elemento de la matriz de rigidez global $\\left(2i+j,2i+j\\right)$\n",
    "\n",
    "Al generar la matriz de rigidez global se añaden estos elementos con sus índices correspondientes."
   ]
  },
  {
   "cell_type": "code",
   "execution_count": 27,
   "metadata": {},
   "outputs": [],
   "source": [
    "kpen = 1e20\n",
    "f_cc1 = lambda cc: list(map(lambda u: kpen,cc))\n",
    "f_cc2 = lambda cc: list(map(lambda u: u[0]*2+u[1],cc))\n",
    "f_kgp = lambda elementos,puntos,cc: sp.csr_matrix(sp.coo_matrix((np.hstack((f_kg1(elementos,puntos),f_cc1(cc))),(fco(elementos)+f_cc2(cc),ffi(elementos)+f_cc2(cc))),shape=(len(puntos)*2,len(puntos)*2)))"
   ]
  },
  {
   "cell_type": "code",
   "execution_count": 28,
   "metadata": {},
   "outputs": [
    {
     "data": {
      "text/plain": [
       "6.400000000000038e+67"
      ]
     },
     "execution_count": 28,
     "metadata": {},
     "output_type": "execute_result"
    }
   ],
   "source": [
    "np.linalg.det(f_kgp(elementos,x,cc).todense())\n"
   ]
  },
  {
   "cell_type": "markdown",
   "metadata": {},
   "source": [
    "## Fuerzas\n",
    "\n",
    "El vector de fuerzas se obtiene de forma similar a la matriz de rigidez. Se crea una matriz sparse a partir de los valores de las fuerzas aplicadas y de los grados de libertad correspondientes.\n",
    "Para ello usaremos dos funciones auxiliares.\n",
    "1. f_b1 transforma la lista de fuerzas en una lista con los valores de las fuerzas y las filas del vector global f (además de un 0 para la columna)\n",
    "2. f_b ensambla el vector de fuerzas en una matriz sparse\n"
   ]
  },
  {
   "cell_type": "code",
   "execution_count": 29,
   "metadata": {},
   "outputs": [],
   "source": [
    "# fb da el vector de fuerzas en funcion de [[nodo,direccion,fuerza],...] y puntos\n",
    "f_b1 = lambda fuerzas,puntos: (list(map(lambda u: u[2],fuerzas)),(list(map(lambda u: u[0]*2+u[1],fuerzas)),list(map(lambda u: 0,fuerzas))))\n",
    "f_b = lambda fuerzas,puntos: sp.csr_matrix(sp.coo_matrix((f_b1(fuerzas,puntos)),shape=(len(puntos)*2,1)))"
   ]
  },
  {
   "cell_type": "code",
   "execution_count": 30,
   "metadata": {},
   "outputs": [
    {
     "name": "stdout",
     "output_type": "stream",
     "text": [
      "  (4, 0)\t1\n"
     ]
    }
   ],
   "source": [
    "print(f_b(fuerzas,x))"
   ]
  },
  {
   "cell_type": "markdown",
   "metadata": {},
   "source": [
    "Hemos obtenido una matriz sparse de $6\\times1$ con un elemento no nulo de valor $1$ en el índice 4 que se corresponde con el nodo $2$ y dirección $x$"
   ]
  },
  {
   "cell_type": "markdown",
   "metadata": {},
   "source": [
    "Una vez que tenemos la matriz de rigidez global y el vector de fuerzas global podemos resolver el sistema de ecuaciones "
   ]
  },
  {
   "cell_type": "code",
   "execution_count": 31,
   "metadata": {},
   "outputs": [
    {
     "name": "stdout",
     "output_type": "stream",
     "text": [
      "[[ 1.00000000e-20  1.00000000e-20]\n",
      " [ 1.00000000e-03 -1.00000000e-20]\n",
      " [ 6.09016994e-03 -2.50000000e-04]]\n"
     ]
    }
   ],
   "source": [
    "d = spsolve(f_kgp(elementos,x,cc),f_b(fuerzas,x)).reshape(3,2)\n",
    "print(d)"
   ]
  },
  {
   "cell_type": "markdown",
   "metadata": {},
   "source": [
    "Podemos crear una función para resolver el problema"
   ]
  },
  {
   "cell_type": "code",
   "execution_count": 32,
   "metadata": {},
   "outputs": [],
   "source": [
    "f_solve = lambda x,els,fuerzas,cc: spsolve(f_kgp(els,x,cc),f_b(fuerzas,x)).reshape(len(x),2)"
   ]
  },
  {
   "cell_type": "code",
   "execution_count": 33,
   "metadata": {},
   "outputs": [],
   "source": [
    "u = f_solve(x,elementos,fuerzas,cc)"
   ]
  },
  {
   "cell_type": "markdown",
   "metadata": {},
   "source": [
    "Utilizaremos las siguientes funciones para dibujar los nodos o los elementos"
   ]
  },
  {
   "cell_type": "code",
   "execution_count": 34,
   "metadata": {},
   "outputs": [],
   "source": [
    "f_dibnodos= lambda puntos,color='go': plt.plot(puntos[:,0],puntos[:,1],color)\n",
    "f_dibelems = lambda puntos,elementos,color='r':plt.plot(*(sum(list(map(lambda u: [(puntos[u[0]][0],puntos[u[1]][0]),(puntos[u[0]][1],puntos[u[1]][1]),color],elementos)),[] )))"
   ]
  },
  {
   "cell_type": "code",
   "execution_count": 35,
   "metadata": {},
   "outputs": [
    {
     "data": {
      "text/plain": [
       "[<matplotlib.lines.Line2D at 0xa79483b0>,\n",
       " <matplotlib.lines.Line2D at 0xa7948470>,\n",
       " <matplotlib.lines.Line2D at 0xa79486b0>]"
      ]
     },
     "execution_count": 35,
     "metadata": {},
     "output_type": "execute_result"
    },
    {
     "data": {
      "image/png": "[encoded data removed]",
      "text/plain": [
       "<Figure size 432x288 with 1 Axes>"
      ]
     },
     "metadata": {
      "needs_background": "light"
     },
     "output_type": "display_data"
    }
   ],
   "source": [
    "f_dibnodos(x,'r^')\n",
    "f_dibnodos(x+100*u,'go')\n",
    "f_dibelems(x,elementos,'r')\n",
    "f_dibelems(x+100*u,elementos,'g')"
   ]
  },
  {
   "cell_type": "code",
   "execution_count": 36,
   "metadata": {},
   "outputs": [],
   "source": [
    "plt.show()"
   ]
  },
  {
   "cell_type": "markdown",
   "metadata": {},
   "source": [
    "Para obtener los esfuerzos en las barras hay que obtener el movimiento axial y multiplicar por la rigidez de la barra. Utilizaremos las funciones f_Ne que devuelve el axil de un elemento dado utilizando como argumentos el elemento, las coordenadas de los nodos y los movimientos de los nodos.\n",
    "Para obtener los axiles de todos los elementos tenemos la función f_N que aplica f_Ne a todos los elementos."
   ]
  },
  {
   "cell_type": "code",
   "execution_count": 37,
   "metadata": {},
   "outputs": [
    {
     "data": {
      "text/plain": [
       "array([[ 1.00000000e-20,  1.00000000e-20],\n",
       "       [ 2.00100000e+00, -1.00000000e-20],\n",
       "       [ 1.00609017e+00,  1.99975000e+00]])"
      ]
     },
     "execution_count": 37,
     "metadata": {},
     "output_type": "execute_result"
    }
   ],
   "source": [
    "x+u"
   ]
  },
  {
   "cell_type": "code",
   "execution_count": 38,
   "metadata": {},
   "outputs": [],
   "source": [
    "f_N1 = lambda elemento,coors: fk_1(fk_0(elemento,coors))\n",
    "f_Ne = lambda elemento,coors,u: (elemento[2]/(fk_1(fk_0(elemento,coors))[3])**2)*(np.dot(f_N1(elemento,coors)[-2:],f_N1(elemento,u)[-2:]))\n",
    "f_N = lambda elementos,coors,u: list(map(lambda v: f_Ne(v,coors,u),elementos))"
   ]
  },
  {
   "cell_type": "markdown",
   "metadata": {},
   "source": [
    "Axil del elemento 1"
   ]
  },
  {
   "cell_type": "code",
   "execution_count": 39,
   "metadata": {},
   "outputs": [
    {
     "data": {
      "text/plain": [
       "1.1180339887498947"
      ]
     },
     "execution_count": 39,
     "metadata": {},
     "output_type": "execute_result"
    }
   ],
   "source": [
    "f_Ne(elementos[1],x,u)"
   ]
  },
  {
   "cell_type": "markdown",
   "metadata": {},
   "source": [
    "Obtención de todos los axiles"
   ]
  },
  {
   "cell_type": "code",
   "execution_count": 40,
   "metadata": {},
   "outputs": [
    {
     "data": {
      "text/plain": [
       "[0.5, 1.1180339887498947, -1.118033988749895]"
      ]
     },
     "execution_count": 40,
     "metadata": {},
     "output_type": "execute_result"
    }
   ],
   "source": [
    "f_N(elementos,x,u)"
   ]
  },
  {
   "cell_type": "markdown",
   "metadata": {},
   "source": [
    "## Movimientos impuestos\n",
    "Si tenemos algún movimiento impuesto en el modelo se puede imponer mediante penalización.\n",
    "Se impone una restricción en el grado de libertad correspondiente y se aplica una fuerza en ese mismo grado de libertad de valor el movimiento impuesto multiplicado por la constante de penalización.\n",
    "Veamos el ejemplo anterior donde en vez de aplicar una fuerza se desea que el nodo $2$ se mueva $-0.2$ en direción $x$\n",
    "Añadiríamos una nueva condición de contorno y aplicaríamos la fuerza correspondiente."
   ]
  },
  {
   "cell_type": "code",
   "execution_count": 41,
   "metadata": {},
   "outputs": [],
   "source": [
    "cc2 = cc+[[2,0]]\n",
    "fuerzas2 = [[2,0,-kpen*0.2]]"
   ]
  },
  {
   "cell_type": "markdown",
   "metadata": {},
   "source": [
    "Resolvemos y obtenemos el resultado previsto."
   ]
  },
  {
   "cell_type": "code",
   "execution_count": 42,
   "metadata": {},
   "outputs": [
    {
     "name": "stdout",
     "output_type": "stream",
     "text": [
      "[[-3.28398061e-19 -3.28398061e-19]\n",
      " [-3.28398061e-02  3.28398061e-19]\n",
      " [-2.00000000e-01  8.20995152e-03]]\n"
     ]
    }
   ],
   "source": [
    "u2 = f_solve(x,elementos,fuerzas2,cc2)\n",
    "print(u2)"
   ]
  },
  {
   "cell_type": "code",
   "execution_count": 43,
   "metadata": {},
   "outputs": [
    {
     "name": "stdout",
     "output_type": "stream",
     "text": [
      "[[-3.28398061e-19 -3.28398061e-19]\n",
      " [-3.28398061e-02  3.28398061e-19]\n",
      " [-2.00000000e-01  8.20995152e-03]]\n"
     ]
    }
   ],
   "source": [
    "print(u2)"
   ]
  },
  {
   "cell_type": "markdown",
   "metadata": {},
   "source": [
    "que se puede dibujar utlizando los movimientos a escala 1:1"
   ]
  },
  {
   "cell_type": "code",
   "execution_count": 44,
   "metadata": {},
   "outputs": [
    {
     "data": {
      "text/plain": [
       "[<matplotlib.lines.Line2D at 0xa7900510>,\n",
       " <matplotlib.lines.Line2D at 0xa79005d0>,\n",
       " <matplotlib.lines.Line2D at 0xa7900810>]"
      ]
     },
     "execution_count": 44,
     "metadata": {},
     "output_type": "execute_result"
    },
    {
     "data": {
      "image/png": "[encoded data removed]",
      "text/plain": [
       "<Figure size 432x288 with 1 Axes>"
      ]
     },
     "metadata": {
      "needs_background": "light"
     },
     "output_type": "display_data"
    }
   ],
   "source": [
    "f_dibnodos(x,'r^')\n",
    "f_dibnodos(x+u2,'go')\n",
    "f_dibelems(x,elementos,'r')\n",
    "f_dibelems(x+u2,elementos,'g')"
   ]
  },
  {
   "cell_type": "markdown",
   "metadata": {},
   "source": [
    "## Generación de nodos\n",
    "Con el fin facilitar la generación de los datos de los modelos vamos a incluir unas funciones para la generación de coordenadas y nodos.\n",
    "La función que usaremos es gennodos.\n",
    "Tiene los siguientes argumentos:\n",
    "\n",
    "1. xf. Función de las variables (u,v)\n",
    "2. yf. Función de las variables (u,v)\n",
    "3. ues. Rango de los valores de u en la forma [u0,uf,nu]\n",
    "3. ves. Rango de los valores de v en la forma [v0,vf,nv]\n",
    "3. patterns. Esquema de numeración de los nodos.\n",
    "3. n0. Número del primer nodo generado.\n",
    "4. ntot. Número total de nodos del modelo.\n",
    "\n",
    "y devuelve el array de coordenadas de los nodos.\n",
    "Las funciones *xf(u,v)->u*   y *yf(u,v)->v* están ya predefinidas.\n",
    "\n",
    "El único argumento que hay que explicar es *patterns* que establece como se van asignando números de nodos a las coordenadas que se van generando.\n",
    "Se generan $nu\\timesnv$ coordenadas que se obtienen evaluando las funciones xf e yf sobre el producto cartesiano de los nu valores generados entre u0 y uf por los nv valores generados entre v0 y vf.\n",
    "La forma de asignar los nodos es utilizando la lista patterns [[d1,s1],[d2,s2],...]\n",
    "Se van asignando nodos a las coordenadas empezando por n0, a cada incremento de s1 de las coordenadas (las $nu\\timesnv$ coordenadas) se incrementa d1 el índice del nodo. Se hace lo mismo con cada par de valores [d,s] de la lista patterns."
   ]
  },
  {
   "cell_type": "code",
   "execution_count": 45,
   "metadata": {},
   "outputs": [],
   "source": [
    "xf = lambda u,v: u\n",
    "yf = lambda u,v: v\n",
    "f1  =lambda u: np.linspace(u[0],u[1],u[2])\n",
    "f2 = lambda u,v : np.meshgrid(f1(u),f1(v))\n",
    "f3 = lambda xu,u,v: xu(*f2(u,v)).reshape(u[2]*v[2],1)\n",
    "f4 = lambda xu,yu,u,v : np.hstack((f3(xu,u,v),f3(yu,u,v)))\n",
    "faux = lambda patterns,ntot: map(lambda x: [x[0],x[1],ntot],patterns)\n",
    "fn1 = lambda d1,s1,n : (np.cumsum((np.ones(int(n/s1)))).reshape((int(n/s1),1))*d1-d1 + np.zeros(s1)).reshape(1,n)\n",
    "fn2 = lambda d1,s1,n: fn1(d1,s1,(int((n-1)/s1)+1)*s1)[0][0:n].reshape(1,n)\n",
    "fnumer = lambda ues,ves,patterns,n0: np.sum(list(map(lambda u: fn2(*u),faux(patterns,ues[2]*ves[2]))),dtype=int,axis=0)+n0 \n",
    "nauxf = lambda nnodos: np.hstack((np.ones((1,nnodos),dtype=int)*0,np.ones((1,nnodos),dtype=int))).reshape(nnodos*2)\n",
    "ensambf = lambda puntos,nodos,ntot: sp.coo_matrix((np.hstack((puntos[:,0],puntos[:,1])), (np.hstack((nodos,nodos)).reshape(nodos.size*2), nauxf(nodos.size))),shape=(ntot,2)).toarray()\n",
    "gennodos=lambda xf,yf,ues,ves,patterns,n0,ntot:ensambf(f4(xf,yf,ues,ves),fnumer(ues,ves,patterns,n0),ntot)\n"
   ]
  },
  {
   "cell_type": "markdown",
   "metadata": {},
   "source": [
    "Si queremos generar 6 nodos separados 1 en el eje $x$ a partir del origen."
   ]
  },
  {
   "cell_type": "code",
   "execution_count": 46,
   "metadata": {
    "scrolled": true
   },
   "outputs": [],
   "source": [
    "xl1 = gennodos(xf,yf,[0,5,6],[0,0,1],[[1,1]],0,6)"
   ]
  },
  {
   "cell_type": "code",
   "execution_count": 47,
   "metadata": {},
   "outputs": [
    {
     "data": {
      "text/plain": [
       "[<matplotlib.lines.Line2D at 0xa7859430>]"
      ]
     },
     "execution_count": 47,
     "metadata": {},
     "output_type": "execute_result"
    },
    {
     "data": {
      "image/png": "[encoded data removed]",
      "text/plain": [
       "<Figure size 432x288 with 1 Axes>"
      ]
     },
     "metadata": {
      "needs_background": "light"
     },
     "output_type": "display_data"
    }
   ],
   "source": [
    "ax = plt.gca()\n",
    "ax.set_aspect('equal')\n",
    "f_dibnodos(xl1,'r^')"
   ]
  },
  {
   "cell_type": "markdown",
   "metadata": {},
   "source": [
    "Si queremos generar una malla de nodos en un rectángulo de lados 4x2 y queremos 6 nodos en el lado sobre el eje $x$ y $3$ sobre el eje $y$ con la numeración empezando por cero y creciendo según el eje $x$"
   ]
  },
  {
   "cell_type": "code",
   "execution_count": 48,
   "metadata": {},
   "outputs": [
    {
     "data": {
      "text/plain": [
       "[<matplotlib.lines.Line2D at 0xa78170b0>]"
      ]
     },
     "execution_count": 48,
     "metadata": {},
     "output_type": "execute_result"
    },
    {
     "data": {
      "image/png": "[encoded data removed]",
      "text/plain": [
       "<Figure size 432x288 with 1 Axes>"
      ]
     },
     "metadata": {
      "needs_background": "light"
     },
     "output_type": "display_data"
    }
   ],
   "source": [
    "xl2 = gennodos(xf,yf,[0,4,6],[0,2,3],[[1,1]],0,18)\n",
    "ax = plt.gca()\n",
    "ax.set_aspect('equal')\n",
    "f_dibnodos(xl2,'r^')"
   ]
  },
  {
   "cell_type": "code",
   "execution_count": 49,
   "metadata": {},
   "outputs": [
    {
     "name": "stdout",
     "output_type": "stream",
     "text": [
      "[[0.  0. ]\n",
      " [0.8 0. ]\n",
      " [1.6 0. ]\n",
      " [2.4 0. ]\n",
      " [3.2 0. ]\n",
      " [4.  0. ]\n",
      " [0.  1. ]\n",
      " [0.8 1. ]\n",
      " [1.6 1. ]\n",
      " [2.4 1. ]\n",
      " [3.2 1. ]\n",
      " [4.  1. ]\n",
      " [0.  2. ]\n",
      " [0.8 2. ]\n",
      " [1.6 2. ]\n",
      " [2.4 2. ]\n",
      " [3.2 2. ]\n",
      " [4.  2. ]]\n"
     ]
    }
   ],
   "source": [
    "print(xl2)"
   ]
  },
  {
   "cell_type": "markdown",
   "metadata": {},
   "source": [
    "Si queremos una malla de nodos sobre un cuarto de un sector circular entre los radios 3 y 5 con 8 nodos en la dirección del radio y 20 nodos circunferencialmente."
   ]
  },
  {
   "cell_type": "code",
   "execution_count": 50,
   "metadata": {},
   "outputs": [
    {
     "data": {
      "text/plain": [
       "[<matplotlib.lines.Line2D at 0xa77d1830>]"
      ]
     },
     "execution_count": 50,
     "metadata": {},
     "output_type": "execute_result"
    },
    {
     "data": {
      "image/png": "[encoded data removed]",
      "text/plain": [
       "<Figure size 432x288 with 1 Axes>"
      ]
     },
     "metadata": {
      "needs_background": "light"
     },
     "output_type": "display_data"
    }
   ],
   "source": [
    "xf3 = lambda u,v: u*np.cos(v)\n",
    "yf3 = lambda u,v: u*np.sin(v)\n",
    "xl3 = gennodos(xf3,yf3,[3,5,8],[0,np.pi/2,20],[[1,1]],0,160)\n",
    "ax = plt.gca()\n",
    "ax.set_aspect('equal')\n",
    "f_dibnodos(xl3,'ro')\n"
   ]
  },
  {
   "cell_type": "markdown",
   "metadata": {},
   "source": [
    "## Generación de elementos\n",
    "Para la generación de elementos se seguirá un esquema similar que para la generación de nodos salvo que cada elemento tiene varios nodos sobre los que se aplicará el esquema.\n",
    "Utilizaremos la función genelem que tiene los siguientes argumentos:\n",
    "1. *patterns* funciona de forma similar a la generación de nodos [[d11,d12,s1],[d21,d22,s2]...]\n",
    "2. elbase. Son los nodos del primer elemento.\n",
    "3. nelem. Número de elementos a generar.\n",
    "4. x. Coordenadas del modelo.\n",
    "5. eaf. Una función dependiente de (x,y) que evaluada en el punto medio de cada barra nos devuelve el valor de $EA$, siendo $E$ el módulo de Young y $A$ la sección de la barra.\n",
    "\n",
    "Por omisión se dispone de la función fc que con un argumento constante genera la función constante."
   ]
  },
  {
   "cell_type": "code",
   "execution_count": 51,
   "metadata": {},
   "outputs": [],
   "source": [
    "fc = lambda f: lambda x,y: f\n",
    "fpat3 = lambda pat,elbase,nelem: list(map(lambda i: [[0,1,nelem],[0,1,1]]+[list(map(lambda x: [x[i],x[-1]],pat))]+[elbase[i]],np.arange(len(elbase))))\n",
    "# patern ,elemento base, nelementos\n",
    "#list(map(lambda x: fnumer(*x),res3))\n",
    "genelem0 = lambda patterns,elbase,nelem: np.hstack(list(map(lambda x: fnumer(*x).reshape(nelem,1),fpat3(patterns,elbase,nelem)))).tolist()\n",
    "genelem1 = lambda elementos,x,eaf:list(map(lambda u: [u[0],u[1],eaf(0.5*(x[u[0]][0]+x[u[1]][0]),0.5*(x[u[0]][1]+x[u[1]][1]))],elementos))\n",
    "# genelem3 genera la lista de elementos con la funcion eaf(x,y) aplicada al punto medio\n",
    "genelem = lambda patterns,elbase,nelem,x,eaf:genelem1(genelem0(patterns,elbase,nelem),x,eaf)\n"
   ]
  },
  {
   "cell_type": "markdown",
   "metadata": {},
   "source": [
    "## Generacion de fuerzas nodales con una funcion de (x,y) evaluada en el nodo\n",
    "Se generan de forma similar a los elementos."
   ]
  },
  {
   "cell_type": "code",
   "execution_count": 52,
   "metadata": {},
   "outputs": [],
   "source": [
    "genfuerzas0 = lambda patterns,elbase,nelem: np.hstack(list(map(lambda x: fnumer(*x).reshape(nelem,1),fpat3(patterns,elbase,nelem)))).tolist()\n",
    "genfuerzas1 = lambda elementos,x,ffuer:list(map(lambda u: [u[0],u[1],ffuer(x[u[0]][0],x[u[0]][1])],elementos))\n",
    "# genelem3 genera la lista de elementos con la funcion eaf(x,y) aplicada al punto medio\n",
    "genfuerzas = lambda patterns,elbase,nelem,x,eaf:genfuerzas1(genfuerzas0(patterns,elbase,nelem),x,eaf)"
   ]
  },
  {
   "cell_type": "markdown",
   "metadata": {},
   "source": [
    "### Ejemplos de generación de elementos.\n",
    "\n",
    "Generación de elementos en una dimensión correspondiente a los nodos xl1 generados anteriormente."
   ]
  },
  {
   "cell_type": "code",
   "execution_count": 53,
   "metadata": {},
   "outputs": [
    {
     "data": {
      "text/plain": [
       "[[0, 1, 1000], [1, 2, 1000], [2, 3, 1000], [3, 4, 1000]]"
      ]
     },
     "execution_count": 53,
     "metadata": {},
     "output_type": "execute_result"
    }
   ],
   "source": [
    "genelem([[1,1,1]],[0,1],4,xl1,fc(1000))"
   ]
  },
  {
   "cell_type": "markdown",
   "metadata": {},
   "source": [
    "### Solución del problema de abaqus 1d"
   ]
  },
  {
   "cell_type": "code",
   "execution_count": 54,
   "metadata": {},
   "outputs": [],
   "source": [
    "x = gennodos(xf,yf,[0,10,11],[0,0,1],[[1,1]],0,11)"
   ]
  },
  {
   "cell_type": "code",
   "execution_count": 55,
   "metadata": {},
   "outputs": [],
   "source": [
    "elems = genelem([[1,1,1]],[0,1],10,x,fc(1000))"
   ]
  },
  {
   "cell_type": "markdown",
   "metadata": {},
   "source": [
    "Las condiciones de contorno se pueden generar con una de las funciones de generar elementos"
   ]
  },
  {
   "cell_type": "code",
   "execution_count": 56,
   "metadata": {},
   "outputs": [],
   "source": [
    "cc1 = genelem0([[1,0,1]],[0,1],11)"
   ]
  },
  {
   "cell_type": "code",
   "execution_count": 57,
   "metadata": {},
   "outputs": [
    {
     "data": {
      "text/plain": [
       "[[0, 1],\n",
       " [1, 1],\n",
       " [2, 1],\n",
       " [3, 1],\n",
       " [4, 1],\n",
       " [5, 1],\n",
       " [6, 1],\n",
       " [7, 1],\n",
       " [8, 1],\n",
       " [9, 1],\n",
       " [10, 1]]"
      ]
     },
     "execution_count": 57,
     "metadata": {},
     "output_type": "execute_result"
    }
   ],
   "source": [
    "cc1"
   ]
  },
  {
   "cell_type": "markdown",
   "metadata": {},
   "source": [
    "Y se añade la condición de contorno que falta de movimiento coaccionado en x en el nodo 0."
   ]
  },
  {
   "cell_type": "code",
   "execution_count": 58,
   "metadata": {},
   "outputs": [],
   "source": [
    "cc = cc1 + [[0,0]]"
   ]
  },
  {
   "cell_type": "markdown",
   "metadata": {},
   "source": [
    "Para la inclusión de la carga volumétrica me ayudo de unas funciones auxiliares para poder generar las cargas nodales quivalentes."
   ]
  },
  {
   "cell_type": "code",
   "execution_count": 59,
   "metadata": {},
   "outputs": [],
   "source": [
    "fq = lambda x,y: 0.2+0.04*x\n",
    "fq1 = lambda x,y: 1/6*(2*fq(x,0)+fq(x+1,0))\n",
    "fq2 = lambda x,y: 1/6*(fq(x-1,0)+2*fq(x,0))"
   ]
  },
  {
   "cell_type": "code",
   "execution_count": 60,
   "metadata": {},
   "outputs": [],
   "source": [
    "fuerz1 = genfuerzas([[1,0,1]],[0,0],10,x,fq1)\n",
    "fuerz2 = genfuerzas([[1,0,1]],[1,0],10,x,fq2)"
   ]
  },
  {
   "cell_type": "markdown",
   "metadata": {},
   "source": [
    "Añado la fuerza nodal del extremo libre."
   ]
  },
  {
   "cell_type": "code",
   "execution_count": 61,
   "metadata": {},
   "outputs": [],
   "source": [
    "fuerzas = fuerz1+fuerz2+[[10,0,5]]"
   ]
  },
  {
   "cell_type": "code",
   "execution_count": 62,
   "metadata": {},
   "outputs": [
    {
     "data": {
      "text/plain": [
       "[[0, 0, 0.10666666666666666],\n",
       " [1, 0, 0.12666666666666665],\n",
       " [2, 0, 0.14666666666666667],\n",
       " [3, 0, 0.16666666666666666],\n",
       " [4, 0, 0.18666666666666668],\n",
       " [5, 0, 0.20666666666666667],\n",
       " [6, 0, 0.22666666666666668],\n",
       " [7, 0, 0.24666666666666665],\n",
       " [8, 0, 0.26666666666666666],\n",
       " [9, 0, 0.2866666666666667],\n",
       " [1, 0, 0.11333333333333334],\n",
       " [2, 0, 0.13333333333333333],\n",
       " [3, 0, 0.15333333333333332],\n",
       " [4, 0, 0.17333333333333334],\n",
       " [5, 0, 0.19333333333333336],\n",
       " [6, 0, 0.21333333333333332],\n",
       " [7, 0, 0.23333333333333334],\n",
       " [8, 0, 0.2533333333333333],\n",
       " [9, 0, 0.2733333333333333],\n",
       " [10, 0, 0.29333333333333333],\n",
       " [10, 0, 5]]"
      ]
     },
     "execution_count": 62,
     "metadata": {},
     "output_type": "execute_result"
    }
   ],
   "source": [
    "fuerzas"
   ]
  },
  {
   "cell_type": "code",
   "execution_count": 63,
   "metadata": {},
   "outputs": [
    {
     "name": "stdout",
     "output_type": "stream",
     "text": [
      "[[9.00000000e-20 0.00000000e+00]\n",
      " [8.89333333e-03 0.00000000e+00]\n",
      " [1.75466667e-02 0.00000000e+00]\n",
      " [2.59200000e-02 0.00000000e+00]\n",
      " [3.39733333e-02 0.00000000e+00]\n",
      " [4.16666667e-02 0.00000000e+00]\n",
      " [4.89600000e-02 0.00000000e+00]\n",
      " [5.58133333e-02 0.00000000e+00]\n",
      " [6.21866667e-02 0.00000000e+00]\n",
      " [6.80400000e-02 0.00000000e+00]\n",
      " [7.33333333e-02 0.00000000e+00]]\n"
     ]
    }
   ],
   "source": [
    "u = f_solve(x,elems,fuerzas,cc)\n",
    "print(u)"
   ]
  },
  {
   "cell_type": "markdown",
   "metadata": {},
   "source": [
    "Leemos los resultados de abaqus"
   ]
  },
  {
   "cell_type": "code",
   "execution_count": 64,
   "metadata": {},
   "outputs": [],
   "source": [
    "import pandas as pd\n",
    "data = pd.read_csv('u3.txt', header = None)\n",
    "u3_abaqus = data.to_numpy()"
   ]
  },
  {
   "cell_type": "code",
   "execution_count": 65,
   "metadata": {},
   "outputs": [
    {
     "data": {
      "text/plain": [
       "[<matplotlib.lines.Line2D at 0xa5f94b90>,\n",
       " <matplotlib.lines.Line2D at 0xa5f94c90>]"
      ]
     },
     "execution_count": 65,
     "metadata": {},
     "output_type": "execute_result"
    },
    {
     "data": {
      "image/png": "[encoded data removed]",
      "text/plain": [
       "<Figure size 432x288 with 1 Axes>"
      ]
     },
     "metadata": {
      "needs_background": "light"
     },
     "output_type": "display_data"
    }
   ],
   "source": [
    "plt.xlabel('x')\n",
    "plt.ylabel('u')\n",
    "plt.title('Ejercicio fibra elástica')\n",
    "plt.axis([0, 10, 0, 0.08])\n",
    "plt.grid(True)\n",
    "plt.plot(x[:,0],u[:,0],x[:,0],u3_abaqus[:,1],'*')"
   ]
  },
  {
   "cell_type": "code",
   "execution_count": 66,
   "metadata": {},
   "outputs": [],
   "source": [
    "axiles = f_N(elems,x,u)"
   ]
  },
  {
   "cell_type": "code",
   "execution_count": 67,
   "metadata": {},
   "outputs": [
    {
     "data": {
      "text/plain": [
       "[<matplotlib.lines.Line2D at 0xa5eb62f0>]"
      ]
     },
     "execution_count": 67,
     "metadata": {},
     "output_type": "execute_result"
    },
    {
     "data": {
      "image/png": "[encoded data removed]",
      "text/plain": [
       "<Figure size 432x288 with 1 Axes>"
      ]
     },
     "metadata": {
      "needs_background": "light"
     },
     "output_type": "display_data"
    }
   ],
   "source": [
    "plt.xlabel('x')\n",
    "plt.ylabel('axil')\n",
    "plt.title('Ejercicio fibra elástica')\n",
    "plt.axis([0, 10, 5, 9])\n",
    "plt.grid(True)\n",
    "plt.plot(np.linspace(0.5,9.5,10),axiles[:])"
   ]
  },
  {
   "cell_type": "code",
   "execution_count": 68,
   "metadata": {},
   "outputs": [],
   "source": [
    "import pandas as pd\n",
    "data = pd.read_csv('s33.rpt', header = None)\n",
    "s33_abaqus = data.to_numpy()"
   ]
  },
  {
   "cell_type": "code",
   "execution_count": 69,
   "metadata": {},
   "outputs": [
    {
     "data": {
      "text/plain": [
       "array([5.29, 5.85, 6.37, 6.85, 7.29, 7.69, 8.05, 8.37, 8.65, 8.89])"
      ]
     },
     "execution_count": 69,
     "metadata": {},
     "output_type": "execute_result"
    }
   ],
   "source": [
    "s33_abaqus[:,2]"
   ]
  },
  {
   "cell_type": "code",
   "execution_count": 70,
   "metadata": {},
   "outputs": [],
   "source": [
    "s33_ab = np.flip(s33_abaqus[:,2])"
   ]
  },
  {
   "cell_type": "code",
   "execution_count": 71,
   "metadata": {},
   "outputs": [
    {
     "data": {
      "text/plain": [
       "[<matplotlib.lines.Line2D at 0xa5e74e30>,\n",
       " <matplotlib.lines.Line2D at 0xa5e74fd0>]"
      ]
     },
     "execution_count": 71,
     "metadata": {},
     "output_type": "execute_result"
    },
    {
     "data": {
      "image/png": "[encoded data removed]",
      "text/plain": [
       "<Figure size 432x288 with 1 Axes>"
      ]
     },
     "metadata": {
      "needs_background": "light"
     },
     "output_type": "display_data"
    }
   ],
   "source": [
    "plt.xlabel('x')\n",
    "plt.ylabel('axil')\n",
    "plt.title('Ejercicio fibra elástica')\n",
    "plt.axis([0, 10, 5, 9])\n",
    "plt.grid(True)\n",
    "plt.plot(np.linspace(0.5,9.5,10),axiles[:],np.linspace(0.5,9.5,10),s33_ab,'*')"
   ]
  },
  {
   "cell_type": "code",
   "execution_count": 210,
   "metadata": {},
   "outputs": [],
   "source": [
    "nx = 15\n",
    "x = gennodos(xf,yf,[0,nx*8,nx+1],[0,2,2],[[1,1]],0,2*nx+2)"
   ]
  },
  {
   "cell_type": "code",
   "execution_count": 211,
   "metadata": {},
   "outputs": [],
   "source": [
    "els1 = genelem([[1,1,1],[1,1,nx]],[0,1],2*nx,x,fc(1e6))"
   ]
  },
  {
   "cell_type": "code",
   "execution_count": 212,
   "metadata": {},
   "outputs": [],
   "source": [
    "els2 = genelem([[1,1,1]],[0,nx+1],nx+1,x,fc(1e6))"
   ]
  },
  {
   "cell_type": "code",
   "execution_count": 213,
   "metadata": {},
   "outputs": [],
   "source": [
    "els3 = genelem([[1,1,1]],[0,nx+2],nx,x,fc(1e6))\n",
    "els4 = genelem([[1,1,1]],[1,nx+1],nx,x,fc(1e6))"
   ]
  },
  {
   "cell_type": "code",
   "execution_count": 214,
   "metadata": {},
   "outputs": [],
   "source": [
    "elementos = els1+els2+els3+els4"
   ]
  },
  {
   "cell_type": "code",
   "execution_count": 216,
   "metadata": {},
   "outputs": [
    {
     "data": {
      "image/png": "[encoded data removed]",
      "text/plain": [
       "<Figure size 432x288 with 1 Axes>"
      ]
     },
     "metadata": {
      "needs_background": "light"
     },
     "output_type": "display_data"
    }
   ],
   "source": [
    "#ax = plt.gca()\n",
    "#ax.set_aspect('equal')\n",
    "f_dibnodos(x);\n",
    "f_dibelems(x,elementos);"
   ]
  },
  {
   "cell_type": "code",
   "execution_count": 217,
   "metadata": {},
   "outputs": [],
   "source": [
    "cc = [[0,0],[0,1],[nx,1]]\n",
    "fuerzas = genfuerzas([[1,0,1]],[nx+1,1],nx+1,x,fc(10))"
   ]
  },
  {
   "cell_type": "code",
   "execution_count": 218,
   "metadata": {},
   "outputs": [],
   "source": [
    "u=f_solve(x,elementos,fuerzas,cc)"
   ]
  },
  {
   "cell_type": "code",
   "execution_count": 219,
   "metadata": {
    "scrolled": true
   },
   "outputs": [
    {
     "data": {
      "image/png": "[encoded data removed]",
      "text/plain": [
       "<Figure size 432x288 with 1 Axes>"
      ]
     },
     "metadata": {
      "needs_background": "light"
     },
     "output_type": "display_data"
    }
   ],
   "source": [
    "ax = plt.gca()\n",
    "ax.set_aspect('equal')\n",
    "f_dibnodos(x+u);\n",
    "f_dibelems(x+u,elementos);"
   ]
  },
  {
   "cell_type": "markdown",
   "metadata": {},
   "source": [
    "Podemos generar el modelo con forma de arco parabólico. Basta con utilizar las ecuaciones de la parábola.\n",
    "En este caso para una luz de 120 metros y una flecha de 30 metros.\n",
    "Se ha considerado que el canto de la viga se genera según la normal a la parábola."
   ]
  },
  {
   "cell_type": "code",
   "execution_count": 267,
   "metadata": {},
   "outputs": [],
   "source": [
    "xf2 = lambda u,v: u+v*(2/120*u)/np.sqrt(1+4*(1/120)*(1/120)*u*u)\n",
    "yf2 = lambda u,v: -1/120*u*u+v*1/np.sqrt(1+(4/120)*(1/120)*u*u)\n",
    "x = gennodos(xf2,yf2,[-nx*4,nx*4,nx+1],[0,4,2],[[1,1]],0,2*nx+2)"
   ]
  },
  {
   "cell_type": "markdown",
   "metadata": {},
   "source": [
    "Dibujamos los nodos solamente."
   ]
  },
  {
   "cell_type": "code",
   "execution_count": 268,
   "metadata": {},
   "outputs": [
    {
     "data": {
      "image/png": "[encoded data removed]",
      "text/plain": [
       "<Figure size 432x288 with 1 Axes>"
      ]
     },
     "metadata": {
      "needs_background": "light"
     },
     "output_type": "display_data"
    }
   ],
   "source": [
    "ax = plt.gca()\n",
    "ax.set_aspect('equal')\n",
    "f_dibnodos(x);"
   ]
  },
  {
   "cell_type": "markdown",
   "metadata": {},
   "source": [
    "Los elementos son exactamente los mismos que en el caso anterior."
   ]
  },
  {
   "cell_type": "code",
   "execution_count": 269,
   "metadata": {},
   "outputs": [],
   "source": [
    "els1 = genelem([[1,1,1],[1,1,nx]],[0,1],2*nx,x,fc(1e6))"
   ]
  },
  {
   "cell_type": "code",
   "execution_count": 270,
   "metadata": {},
   "outputs": [],
   "source": [
    "els2 = genelem([[1,1,1]],[0,nx+1],nx+1,x,fc(1e6))"
   ]
  },
  {
   "cell_type": "code",
   "execution_count": 271,
   "metadata": {},
   "outputs": [],
   "source": [
    "els3 = genelem([[1,1,1]],[0,nx+2],nx,x,fc(1e6))\n",
    "els4 = genelem([[1,1,1]],[1,nx+1],nx,x,fc(1e6))"
   ]
  },
  {
   "cell_type": "code",
   "execution_count": 272,
   "metadata": {},
   "outputs": [],
   "source": [
    "elementos = els1+els2+els3+els4"
   ]
  },
  {
   "cell_type": "code",
   "execution_count": 273,
   "metadata": {},
   "outputs": [
    {
     "data": {
      "image/png": "[encoded data removed]",
      "text/plain": [
       "<Figure size 432x288 with 1 Axes>"
      ]
     },
     "metadata": {
      "needs_background": "light"
     },
     "output_type": "display_data"
    }
   ],
   "source": [
    "ax = plt.gca()\n",
    "ax.set_aspect('equal')\n",
    "f_dibnodos(x);\n",
    "f_dibelems(x,elementos);"
   ]
  },
  {
   "cell_type": "code",
   "execution_count": 274,
   "metadata": {},
   "outputs": [],
   "source": [
    "cc = [[0,0],[0,1],[nx,1]]\n",
    "fuerzas = genfuerzas([[1,0,1]],[nx+1,1],nx+1,x,fc(-10))"
   ]
  },
  {
   "cell_type": "code",
   "execution_count": 275,
   "metadata": {},
   "outputs": [],
   "source": [
    "u=f_solve(x,elementos,fuerzas,cc)"
   ]
  },
  {
   "cell_type": "code",
   "execution_count": null,
   "metadata": {},
   "outputs": [],
   "source": [
    "Dibujamos los nodos sin deformar y los elementos según la deformada."
   ]
  },
  {
   "cell_type": "code",
   "execution_count": 278,
   "metadata": {},
   "outputs": [
    {
     "data": {
      "image/png": "[encoded data removed]",
      "text/plain": [
       "<Figure size 432x288 with 1 Axes>"
      ]
     },
     "metadata": {
      "needs_background": "light"
     },
     "output_type": "display_data"
    }
   ],
   "source": [
    "ax = plt.gca()\n",
    "ax.set_aspect('equal')\n",
    "f_dibnodos(x);\n",
    "f_dibelems(x+u*10,elementos);"
   ]
  },
  {
   "cell_type": "markdown",
   "metadata": {},
   "source": [
    "Podemos obtener las reacciones que serán las fuerzas asociadas a las restricciones. En este caso, por ejemplo,las reacciones verticales están asociadas a los nodos u[0] y u[nx].  Como el apoyo derecho es un carrito y no hay fuerzas horizontales las únicas reacciones son las verticales que se pueden obtener multiplicando los movimientos de los nodos coaccionados por la constante de penalización $kpen$  \n",
    "Las fuerzas aplicadas son unas fuerzas concentradas en los nodos superiores de valor $-10$ que hacen un total de $-160$."
   ]
  },
  {
   "cell_type": "code",
   "execution_count": 286,
   "metadata": {},
   "outputs": [
    {
     "data": {
      "text/plain": [
       "array([ 5.85482703e-32, -8.00000000e-19])"
      ]
     },
     "execution_count": 286,
     "metadata": {},
     "output_type": "execute_result"
    }
   ],
   "source": [
    "u[0]"
   ]
  },
  {
   "cell_type": "code",
   "execution_count": 287,
   "metadata": {},
   "outputs": [
    {
     "data": {
      "text/plain": [
       "array([ 5.93152636e-01, -8.00000000e-19])"
      ]
     },
     "execution_count": 287,
     "metadata": {},
     "output_type": "execute_result"
    }
   ],
   "source": [
    "u[nx]"
   ]
  },
  {
   "cell_type": "code",
   "execution_count": 290,
   "metadata": {},
   "outputs": [
    {
     "data": {
      "text/plain": [
       "-79.99999999996999"
      ]
     },
     "execution_count": 290,
     "metadata": {},
     "output_type": "execute_result"
    }
   ],
   "source": [
    "u[0][1]*kpen"
   ]
  },
  {
   "cell_type": "code",
   "execution_count": 291,
   "metadata": {},
   "outputs": [
    {
     "data": {
      "text/plain": [
       "-79.99999999996753"
      ]
     },
     "execution_count": 291,
     "metadata": {},
     "output_type": "execute_result"
    }
   ],
   "source": [
    "u[nx][1]*kpen"
   ]
  },
  {
   "cell_type": "code",
   "execution_count": null,
   "metadata": {},
   "outputs": [],
   "source": []
  }
 ],
 "metadata": {
  "kernelspec": {
   "display_name": "Python 3",
   "language": "python",
   "name": "python3"
  },
  "language_info": {
   "codemirror_mode": {
    "name": "ipython",
    "version": 3
   },
   "file_extension": ".py",
   "mimetype": "text/x-python",
   "name": "python",
   "nbconvert_exporter": "python",
   "pygments_lexer": "ipython3",
   "version": "3.7.3"
  }
 },
 "nbformat": 4,
 "nbformat_minor": 4
}
